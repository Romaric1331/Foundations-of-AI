{
  "cells": [
    {
      "cell_type": "code",
      "execution_count": null,
      "id": "5054d37d",
      "metadata": {
        "execution": {
          "iopub.execute_input": "2022-12-20T07:31:28.176085Z",
          "iopub.status.busy": "2022-12-20T07:31:28.175618Z",
          "iopub.status.idle": "2022-12-20T07:31:29.337427Z",
          "shell.execute_reply": "2022-12-20T07:31:29.336193Z"
        },
        "papermill": {
          "duration": 1.176658,
          "end_time": "2022-12-20T07:31:29.340215",
          "exception": false,
          "start_time": "2022-12-20T07:31:28.163557",
          "status": "completed"
        },
        "tags": [],
        "id": "5054d37d"
      },
      "outputs": [],
      "source": [
        "import pandas as pd \n",
        "import numpy as np \n",
        "import matplotlib.pyplot as plt \n",
        "import seaborn as sns "
      ]
    },
    {
      "cell_type": "code",
      "execution_count": null,
      "id": "e6a0a9d6",
      "metadata": {
        "colab": {
          "base_uri": "https://localhost:8080/",
          "height": 423
        },
        "id": "e6a0a9d6",
        "outputId": "b3af8cb3-a868-4c03-e6a9-7a155cb98c1c"
      },
      "outputs": [
        {
          "output_type": "execute_result",
          "data": {
            "text/plain": [
              "     Age Sex      BP Cholesterol  Na_to_K   Drug\n",
              "0     23   F    HIGH        HIGH   25.355  DrugY\n",
              "1     47   M     LOW        HIGH   13.093  drugC\n",
              "2     47   M     LOW        HIGH   10.114  drugC\n",
              "3     28   F  NORMAL        HIGH    7.798  drugX\n",
              "4     61   F     LOW        HIGH   18.043  DrugY\n",
              "..   ...  ..     ...         ...      ...    ...\n",
              "195   56   F     LOW        HIGH   11.567  drugC\n",
              "196   16   M     LOW        HIGH   12.006  drugC\n",
              "197   52   M  NORMAL        HIGH    9.894  drugX\n",
              "198   23   M  NORMAL      NORMAL   14.020  drugX\n",
              "199   40   F     LOW      NORMAL   11.349  drugX\n",
              "\n",
              "[200 rows x 6 columns]"
            ],
            "text/html": [
              "\n",
              "  <div id=\"df-cee68191-e6dd-4d73-bc19-64b1cb350ab3\">\n",
              "    <div class=\"colab-df-container\">\n",
              "      <div>\n",
              "<style scoped>\n",
              "    .dataframe tbody tr th:only-of-type {\n",
              "        vertical-align: middle;\n",
              "    }\n",
              "\n",
              "    .dataframe tbody tr th {\n",
              "        vertical-align: top;\n",
              "    }\n",
              "\n",
              "    .dataframe thead th {\n",
              "        text-align: right;\n",
              "    }\n",
              "</style>\n",
              "<table border=\"1\" class=\"dataframe\">\n",
              "  <thead>\n",
              "    <tr style=\"text-align: right;\">\n",
              "      <th></th>\n",
              "      <th>Age</th>\n",
              "      <th>Sex</th>\n",
              "      <th>BP</th>\n",
              "      <th>Cholesterol</th>\n",
              "      <th>Na_to_K</th>\n",
              "      <th>Drug</th>\n",
              "    </tr>\n",
              "  </thead>\n",
              "  <tbody>\n",
              "    <tr>\n",
              "      <th>0</th>\n",
              "      <td>23</td>\n",
              "      <td>F</td>\n",
              "      <td>HIGH</td>\n",
              "      <td>HIGH</td>\n",
              "      <td>25.355</td>\n",
              "      <td>DrugY</td>\n",
              "    </tr>\n",
              "    <tr>\n",
              "      <th>1</th>\n",
              "      <td>47</td>\n",
              "      <td>M</td>\n",
              "      <td>LOW</td>\n",
              "      <td>HIGH</td>\n",
              "      <td>13.093</td>\n",
              "      <td>drugC</td>\n",
              "    </tr>\n",
              "    <tr>\n",
              "      <th>2</th>\n",
              "      <td>47</td>\n",
              "      <td>M</td>\n",
              "      <td>LOW</td>\n",
              "      <td>HIGH</td>\n",
              "      <td>10.114</td>\n",
              "      <td>drugC</td>\n",
              "    </tr>\n",
              "    <tr>\n",
              "      <th>3</th>\n",
              "      <td>28</td>\n",
              "      <td>F</td>\n",
              "      <td>NORMAL</td>\n",
              "      <td>HIGH</td>\n",
              "      <td>7.798</td>\n",
              "      <td>drugX</td>\n",
              "    </tr>\n",
              "    <tr>\n",
              "      <th>4</th>\n",
              "      <td>61</td>\n",
              "      <td>F</td>\n",
              "      <td>LOW</td>\n",
              "      <td>HIGH</td>\n",
              "      <td>18.043</td>\n",
              "      <td>DrugY</td>\n",
              "    </tr>\n",
              "    <tr>\n",
              "      <th>...</th>\n",
              "      <td>...</td>\n",
              "      <td>...</td>\n",
              "      <td>...</td>\n",
              "      <td>...</td>\n",
              "      <td>...</td>\n",
              "      <td>...</td>\n",
              "    </tr>\n",
              "    <tr>\n",
              "      <th>195</th>\n",
              "      <td>56</td>\n",
              "      <td>F</td>\n",
              "      <td>LOW</td>\n",
              "      <td>HIGH</td>\n",
              "      <td>11.567</td>\n",
              "      <td>drugC</td>\n",
              "    </tr>\n",
              "    <tr>\n",
              "      <th>196</th>\n",
              "      <td>16</td>\n",
              "      <td>M</td>\n",
              "      <td>LOW</td>\n",
              "      <td>HIGH</td>\n",
              "      <td>12.006</td>\n",
              "      <td>drugC</td>\n",
              "    </tr>\n",
              "    <tr>\n",
              "      <th>197</th>\n",
              "      <td>52</td>\n",
              "      <td>M</td>\n",
              "      <td>NORMAL</td>\n",
              "      <td>HIGH</td>\n",
              "      <td>9.894</td>\n",
              "      <td>drugX</td>\n",
              "    </tr>\n",
              "    <tr>\n",
              "      <th>198</th>\n",
              "      <td>23</td>\n",
              "      <td>M</td>\n",
              "      <td>NORMAL</td>\n",
              "      <td>NORMAL</td>\n",
              "      <td>14.020</td>\n",
              "      <td>drugX</td>\n",
              "    </tr>\n",
              "    <tr>\n",
              "      <th>199</th>\n",
              "      <td>40</td>\n",
              "      <td>F</td>\n",
              "      <td>LOW</td>\n",
              "      <td>NORMAL</td>\n",
              "      <td>11.349</td>\n",
              "      <td>drugX</td>\n",
              "    </tr>\n",
              "  </tbody>\n",
              "</table>\n",
              "<p>200 rows × 6 columns</p>\n",
              "</div>\n",
              "      <button class=\"colab-df-convert\" onclick=\"convertToInteractive('df-cee68191-e6dd-4d73-bc19-64b1cb350ab3')\"\n",
              "              title=\"Convert this dataframe to an interactive table.\"\n",
              "              style=\"display:none;\">\n",
              "        \n",
              "  <svg xmlns=\"http://www.w3.org/2000/svg\" height=\"24px\"viewBox=\"0 0 24 24\"\n",
              "       width=\"24px\">\n",
              "    <path d=\"M0 0h24v24H0V0z\" fill=\"none\"/>\n",
              "    <path d=\"M18.56 5.44l.94 2.06.94-2.06 2.06-.94-2.06-.94-.94-2.06-.94 2.06-2.06.94zm-11 1L8.5 8.5l.94-2.06 2.06-.94-2.06-.94L8.5 2.5l-.94 2.06-2.06.94zm10 10l.94 2.06.94-2.06 2.06-.94-2.06-.94-.94-2.06-.94 2.06-2.06.94z\"/><path d=\"M17.41 7.96l-1.37-1.37c-.4-.4-.92-.59-1.43-.59-.52 0-1.04.2-1.43.59L10.3 9.45l-7.72 7.72c-.78.78-.78 2.05 0 2.83L4 21.41c.39.39.9.59 1.41.59.51 0 1.02-.2 1.41-.59l7.78-7.78 2.81-2.81c.8-.78.8-2.07 0-2.86zM5.41 20L4 18.59l7.72-7.72 1.47 1.35L5.41 20z\"/>\n",
              "  </svg>\n",
              "      </button>\n",
              "      \n",
              "  <style>\n",
              "    .colab-df-container {\n",
              "      display:flex;\n",
              "      flex-wrap:wrap;\n",
              "      gap: 12px;\n",
              "    }\n",
              "\n",
              "    .colab-df-convert {\n",
              "      background-color: #E8F0FE;\n",
              "      border: none;\n",
              "      border-radius: 50%;\n",
              "      cursor: pointer;\n",
              "      display: none;\n",
              "      fill: #1967D2;\n",
              "      height: 32px;\n",
              "      padding: 0 0 0 0;\n",
              "      width: 32px;\n",
              "    }\n",
              "\n",
              "    .colab-df-convert:hover {\n",
              "      background-color: #E2EBFA;\n",
              "      box-shadow: 0px 1px 2px rgba(60, 64, 67, 0.3), 0px 1px 3px 1px rgba(60, 64, 67, 0.15);\n",
              "      fill: #174EA6;\n",
              "    }\n",
              "\n",
              "    [theme=dark] .colab-df-convert {\n",
              "      background-color: #3B4455;\n",
              "      fill: #D2E3FC;\n",
              "    }\n",
              "\n",
              "    [theme=dark] .colab-df-convert:hover {\n",
              "      background-color: #434B5C;\n",
              "      box-shadow: 0px 1px 3px 1px rgba(0, 0, 0, 0.15);\n",
              "      filter: drop-shadow(0px 1px 2px rgba(0, 0, 0, 0.3));\n",
              "      fill: #FFFFFF;\n",
              "    }\n",
              "  </style>\n",
              "\n",
              "      <script>\n",
              "        const buttonEl =\n",
              "          document.querySelector('#df-cee68191-e6dd-4d73-bc19-64b1cb350ab3 button.colab-df-convert');\n",
              "        buttonEl.style.display =\n",
              "          google.colab.kernel.accessAllowed ? 'block' : 'none';\n",
              "\n",
              "        async function convertToInteractive(key) {\n",
              "          const element = document.querySelector('#df-cee68191-e6dd-4d73-bc19-64b1cb350ab3');\n",
              "          const dataTable =\n",
              "            await google.colab.kernel.invokeFunction('convertToInteractive',\n",
              "                                                     [key], {});\n",
              "          if (!dataTable) return;\n",
              "\n",
              "          const docLinkHtml = 'Like what you see? Visit the ' +\n",
              "            '<a target=\"_blank\" href=https://colab.research.google.com/notebooks/data_table.ipynb>data table notebook</a>'\n",
              "            + ' to learn more about interactive tables.';\n",
              "          element.innerHTML = '';\n",
              "          dataTable['output_type'] = 'display_data';\n",
              "          await google.colab.output.renderOutput(dataTable, element);\n",
              "          const docLink = document.createElement('div');\n",
              "          docLink.innerHTML = docLinkHtml;\n",
              "          element.appendChild(docLink);\n",
              "        }\n",
              "      </script>\n",
              "    </div>\n",
              "  </div>\n",
              "  "
            ]
          },
          "metadata": {},
          "execution_count": 4
        }
      ],
      "source": [
        "#loading the dataset\n",
        "data= pd.read_csv(\"/content/drug200.csv\")\n",
        "data"
      ]
    },
    {
      "cell_type": "code",
      "execution_count": null,
      "id": "0b0163cd",
      "metadata": {
        "colab": {
          "base_uri": "https://localhost:8080/"
        },
        "id": "0b0163cd",
        "outputId": "c6dcb19e-a8d0-4ccb-f146-d2756b59529d"
      },
      "outputs": [
        {
          "output_type": "stream",
          "name": "stdout",
          "text": [
            "Looking in indexes: https://pypi.org/simple, https://us-python.pkg.dev/colab-wheels/public/simple/\n",
            "Requirement already satisfied: imblearn in /usr/local/lib/python3.8/dist-packages (0.0)\n",
            "Requirement already satisfied: imbalanced-learn in /usr/local/lib/python3.8/dist-packages (from imblearn) (0.8.1)\n",
            "Requirement already satisfied: joblib>=0.11 in /usr/local/lib/python3.8/dist-packages (from imbalanced-learn->imblearn) (1.2.0)\n",
            "Requirement already satisfied: scipy>=0.19.1 in /usr/local/lib/python3.8/dist-packages (from imbalanced-learn->imblearn) (1.7.3)\n",
            "Requirement already satisfied: numpy>=1.13.3 in /usr/local/lib/python3.8/dist-packages (from imbalanced-learn->imblearn) (1.21.6)\n",
            "Requirement already satisfied: scikit-learn>=0.24 in /usr/local/lib/python3.8/dist-packages (from imbalanced-learn->imblearn) (1.0.2)\n",
            "Requirement already satisfied: threadpoolctl>=2.0.0 in /usr/local/lib/python3.8/dist-packages (from scikit-learn>=0.24->imbalanced-learn->imblearn) (3.1.0)\n"
          ]
        }
      ],
      "source": [
        "pip install imblearn #oversampling and undersampling techniques to handle class imbalance in a dataset"
      ]
    },
    {
      "cell_type": "code",
      "execution_count": null,
      "id": "96300e0c",
      "metadata": {
        "execution": {
          "iopub.execute_input": "2022-12-20T07:31:29.365165Z",
          "iopub.status.busy": "2022-12-20T07:31:29.364450Z",
          "iopub.status.idle": "2022-12-20T07:31:29.890533Z",
          "shell.execute_reply": "2022-12-20T07:31:29.889274Z"
        },
        "papermill": {
          "duration": 0.542979,
          "end_time": "2022-12-20T07:31:29.893702",
          "exception": false,
          "start_time": "2022-12-20T07:31:29.350723",
          "status": "completed"
        },
        "tags": [],
        "id": "96300e0c",
        "colab": {
          "base_uri": "https://localhost:8080/",
          "height": 52
        },
        "outputId": "29c82d0c-e0df-47a9-b4e0-58d93249d871"
      },
      "outputs": [
        {
          "output_type": "execute_result",
          "data": {
            "text/plain": [
              "'(Synthetic Minority Over-sampling Technique) is a technique for addressing class imbalance in a dataset\\n by generating synthetic samples'"
            ],
            "application/vnd.google.colaboratory.intrinsic+json": {
              "type": "string"
            }
          },
          "metadata": {},
          "execution_count": 37
        }
      ],
      "source": [
        "from sklearn.linear_model import LogisticRegression \n",
        "from sklearn.preprocessing import StandardScaler \n",
        "from sklearn.model_selection import train_test_split \n",
        "from sklearn.metrics import * \n",
        "\n",
        "from imblearn.over_sampling import SMOTE \n",
        "'''(Synthetic Minority Over-sampling Technique) is a technique for addressing class imbalance in a dataset\n",
        " by generating synthetic samples'''"
      ]
    },
    {
      "cell_type": "markdown",
      "id": "b9beec79",
      "metadata": {
        "papermill": {
          "duration": 0.010251,
          "end_time": "2022-12-20T07:31:29.981590",
          "exception": false,
          "start_time": "2022-12-20T07:31:29.971339",
          "status": "completed"
        },
        "tags": [],
        "id": "b9beec79"
      },
      "source": [
        "##Data Description"
      ]
    },
    {
      "cell_type": "code",
      "execution_count": null,
      "id": "75aeb5df",
      "metadata": {
        "execution": {
          "iopub.execute_input": "2022-12-20T07:31:30.005612Z",
          "iopub.status.busy": "2022-12-20T07:31:30.004692Z",
          "iopub.status.idle": "2022-12-20T07:31:30.037480Z",
          "shell.execute_reply": "2022-12-20T07:31:30.036064Z"
        },
        "papermill": {
          "duration": 0.047817,
          "end_time": "2022-12-20T07:31:30.040054",
          "exception": false,
          "start_time": "2022-12-20T07:31:29.992237",
          "status": "completed"
        },
        "tags": [],
        "colab": {
          "base_uri": "https://localhost:8080/",
          "height": 423
        },
        "id": "75aeb5df",
        "outputId": "f56cec98-2dca-4d0b-aa58-a5309cb0b26c"
      },
      "outputs": [
        {
          "output_type": "execute_result",
          "data": {
            "text/plain": [
              "     Age Sex      BP Cholesterol  Na_to_K   Drug\n",
              "0     23   F    HIGH        HIGH   25.355  DrugY\n",
              "1     47   M     LOW        HIGH   13.093  drugC\n",
              "2     47   M     LOW        HIGH   10.114  drugC\n",
              "3     28   F  NORMAL        HIGH    7.798  drugX\n",
              "4     61   F     LOW        HIGH   18.043  DrugY\n",
              "..   ...  ..     ...         ...      ...    ...\n",
              "195   56   F     LOW        HIGH   11.567  drugC\n",
              "196   16   M     LOW        HIGH   12.006  drugC\n",
              "197   52   M  NORMAL        HIGH    9.894  drugX\n",
              "198   23   M  NORMAL      NORMAL   14.020  drugX\n",
              "199   40   F     LOW      NORMAL   11.349  drugX\n",
              "\n",
              "[200 rows x 6 columns]"
            ],
            "text/html": [
              "\n",
              "  <div id=\"df-66df3a83-f3b4-4f5a-ba82-dcf31def0a81\">\n",
              "    <div class=\"colab-df-container\">\n",
              "      <div>\n",
              "<style scoped>\n",
              "    .dataframe tbody tr th:only-of-type {\n",
              "        vertical-align: middle;\n",
              "    }\n",
              "\n",
              "    .dataframe tbody tr th {\n",
              "        vertical-align: top;\n",
              "    }\n",
              "\n",
              "    .dataframe thead th {\n",
              "        text-align: right;\n",
              "    }\n",
              "</style>\n",
              "<table border=\"1\" class=\"dataframe\">\n",
              "  <thead>\n",
              "    <tr style=\"text-align: right;\">\n",
              "      <th></th>\n",
              "      <th>Age</th>\n",
              "      <th>Sex</th>\n",
              "      <th>BP</th>\n",
              "      <th>Cholesterol</th>\n",
              "      <th>Na_to_K</th>\n",
              "      <th>Drug</th>\n",
              "    </tr>\n",
              "  </thead>\n",
              "  <tbody>\n",
              "    <tr>\n",
              "      <th>0</th>\n",
              "      <td>23</td>\n",
              "      <td>F</td>\n",
              "      <td>HIGH</td>\n",
              "      <td>HIGH</td>\n",
              "      <td>25.355</td>\n",
              "      <td>DrugY</td>\n",
              "    </tr>\n",
              "    <tr>\n",
              "      <th>1</th>\n",
              "      <td>47</td>\n",
              "      <td>M</td>\n",
              "      <td>LOW</td>\n",
              "      <td>HIGH</td>\n",
              "      <td>13.093</td>\n",
              "      <td>drugC</td>\n",
              "    </tr>\n",
              "    <tr>\n",
              "      <th>2</th>\n",
              "      <td>47</td>\n",
              "      <td>M</td>\n",
              "      <td>LOW</td>\n",
              "      <td>HIGH</td>\n",
              "      <td>10.114</td>\n",
              "      <td>drugC</td>\n",
              "    </tr>\n",
              "    <tr>\n",
              "      <th>3</th>\n",
              "      <td>28</td>\n",
              "      <td>F</td>\n",
              "      <td>NORMAL</td>\n",
              "      <td>HIGH</td>\n",
              "      <td>7.798</td>\n",
              "      <td>drugX</td>\n",
              "    </tr>\n",
              "    <tr>\n",
              "      <th>4</th>\n",
              "      <td>61</td>\n",
              "      <td>F</td>\n",
              "      <td>LOW</td>\n",
              "      <td>HIGH</td>\n",
              "      <td>18.043</td>\n",
              "      <td>DrugY</td>\n",
              "    </tr>\n",
              "    <tr>\n",
              "      <th>...</th>\n",
              "      <td>...</td>\n",
              "      <td>...</td>\n",
              "      <td>...</td>\n",
              "      <td>...</td>\n",
              "      <td>...</td>\n",
              "      <td>...</td>\n",
              "    </tr>\n",
              "    <tr>\n",
              "      <th>195</th>\n",
              "      <td>56</td>\n",
              "      <td>F</td>\n",
              "      <td>LOW</td>\n",
              "      <td>HIGH</td>\n",
              "      <td>11.567</td>\n",
              "      <td>drugC</td>\n",
              "    </tr>\n",
              "    <tr>\n",
              "      <th>196</th>\n",
              "      <td>16</td>\n",
              "      <td>M</td>\n",
              "      <td>LOW</td>\n",
              "      <td>HIGH</td>\n",
              "      <td>12.006</td>\n",
              "      <td>drugC</td>\n",
              "    </tr>\n",
              "    <tr>\n",
              "      <th>197</th>\n",
              "      <td>52</td>\n",
              "      <td>M</td>\n",
              "      <td>NORMAL</td>\n",
              "      <td>HIGH</td>\n",
              "      <td>9.894</td>\n",
              "      <td>drugX</td>\n",
              "    </tr>\n",
              "    <tr>\n",
              "      <th>198</th>\n",
              "      <td>23</td>\n",
              "      <td>M</td>\n",
              "      <td>NORMAL</td>\n",
              "      <td>NORMAL</td>\n",
              "      <td>14.020</td>\n",
              "      <td>drugX</td>\n",
              "    </tr>\n",
              "    <tr>\n",
              "      <th>199</th>\n",
              "      <td>40</td>\n",
              "      <td>F</td>\n",
              "      <td>LOW</td>\n",
              "      <td>NORMAL</td>\n",
              "      <td>11.349</td>\n",
              "      <td>drugX</td>\n",
              "    </tr>\n",
              "  </tbody>\n",
              "</table>\n",
              "<p>200 rows × 6 columns</p>\n",
              "</div>\n",
              "      <button class=\"colab-df-convert\" onclick=\"convertToInteractive('df-66df3a83-f3b4-4f5a-ba82-dcf31def0a81')\"\n",
              "              title=\"Convert this dataframe to an interactive table.\"\n",
              "              style=\"display:none;\">\n",
              "        \n",
              "  <svg xmlns=\"http://www.w3.org/2000/svg\" height=\"24px\"viewBox=\"0 0 24 24\"\n",
              "       width=\"24px\">\n",
              "    <path d=\"M0 0h24v24H0V0z\" fill=\"none\"/>\n",
              "    <path d=\"M18.56 5.44l.94 2.06.94-2.06 2.06-.94-2.06-.94-.94-2.06-.94 2.06-2.06.94zm-11 1L8.5 8.5l.94-2.06 2.06-.94-2.06-.94L8.5 2.5l-.94 2.06-2.06.94zm10 10l.94 2.06.94-2.06 2.06-.94-2.06-.94-.94-2.06-.94 2.06-2.06.94z\"/><path d=\"M17.41 7.96l-1.37-1.37c-.4-.4-.92-.59-1.43-.59-.52 0-1.04.2-1.43.59L10.3 9.45l-7.72 7.72c-.78.78-.78 2.05 0 2.83L4 21.41c.39.39.9.59 1.41.59.51 0 1.02-.2 1.41-.59l7.78-7.78 2.81-2.81c.8-.78.8-2.07 0-2.86zM5.41 20L4 18.59l7.72-7.72 1.47 1.35L5.41 20z\"/>\n",
              "  </svg>\n",
              "      </button>\n",
              "      \n",
              "  <style>\n",
              "    .colab-df-container {\n",
              "      display:flex;\n",
              "      flex-wrap:wrap;\n",
              "      gap: 12px;\n",
              "    }\n",
              "\n",
              "    .colab-df-convert {\n",
              "      background-color: #E8F0FE;\n",
              "      border: none;\n",
              "      border-radius: 50%;\n",
              "      cursor: pointer;\n",
              "      display: none;\n",
              "      fill: #1967D2;\n",
              "      height: 32px;\n",
              "      padding: 0 0 0 0;\n",
              "      width: 32px;\n",
              "    }\n",
              "\n",
              "    .colab-df-convert:hover {\n",
              "      background-color: #E2EBFA;\n",
              "      box-shadow: 0px 1px 2px rgba(60, 64, 67, 0.3), 0px 1px 3px 1px rgba(60, 64, 67, 0.15);\n",
              "      fill: #174EA6;\n",
              "    }\n",
              "\n",
              "    [theme=dark] .colab-df-convert {\n",
              "      background-color: #3B4455;\n",
              "      fill: #D2E3FC;\n",
              "    }\n",
              "\n",
              "    [theme=dark] .colab-df-convert:hover {\n",
              "      background-color: #434B5C;\n",
              "      box-shadow: 0px 1px 3px 1px rgba(0, 0, 0, 0.15);\n",
              "      filter: drop-shadow(0px 1px 2px rgba(0, 0, 0, 0.3));\n",
              "      fill: #FFFFFF;\n",
              "    }\n",
              "  </style>\n",
              "\n",
              "      <script>\n",
              "        const buttonEl =\n",
              "          document.querySelector('#df-66df3a83-f3b4-4f5a-ba82-dcf31def0a81 button.colab-df-convert');\n",
              "        buttonEl.style.display =\n",
              "          google.colab.kernel.accessAllowed ? 'block' : 'none';\n",
              "\n",
              "        async function convertToInteractive(key) {\n",
              "          const element = document.querySelector('#df-66df3a83-f3b4-4f5a-ba82-dcf31def0a81');\n",
              "          const dataTable =\n",
              "            await google.colab.kernel.invokeFunction('convertToInteractive',\n",
              "                                                     [key], {});\n",
              "          if (!dataTable) return;\n",
              "\n",
              "          const docLinkHtml = 'Like what you see? Visit the ' +\n",
              "            '<a target=\"_blank\" href=https://colab.research.google.com/notebooks/data_table.ipynb>data table notebook</a>'\n",
              "            + ' to learn more about interactive tables.';\n",
              "          element.innerHTML = '';\n",
              "          dataTable['output_type'] = 'display_data';\n",
              "          await google.colab.output.renderOutput(dataTable, element);\n",
              "          const docLink = document.createElement('div');\n",
              "          docLink.innerHTML = docLinkHtml;\n",
              "          element.appendChild(docLink);\n",
              "        }\n",
              "      </script>\n",
              "    </div>\n",
              "  </div>\n",
              "  "
            ]
          },
          "metadata": {},
          "execution_count": 7
        }
      ],
      "source": [
        "data"
      ]
    },
    {
      "cell_type": "code",
      "execution_count": null,
      "id": "c11db370",
      "metadata": {
        "execution": {
          "iopub.execute_input": "2022-12-20T07:31:30.064058Z",
          "iopub.status.busy": "2022-12-20T07:31:30.063646Z",
          "iopub.status.idle": "2022-12-20T07:31:30.088850Z",
          "shell.execute_reply": "2022-12-20T07:31:30.087617Z"
        },
        "papermill": {
          "duration": 0.040641,
          "end_time": "2022-12-20T07:31:30.091808",
          "exception": false,
          "start_time": "2022-12-20T07:31:30.051167",
          "status": "completed"
        },
        "tags": [],
        "colab": {
          "base_uri": "https://localhost:8080/"
        },
        "id": "c11db370",
        "outputId": "02e8dd0d-f0bc-4700-e179-b28bd3e24ce1"
      },
      "outputs": [
        {
          "output_type": "stream",
          "name": "stdout",
          "text": [
            "<class 'pandas.core.frame.DataFrame'>\n",
            "RangeIndex: 200 entries, 0 to 199\n",
            "Data columns (total 6 columns):\n",
            " #   Column       Non-Null Count  Dtype  \n",
            "---  ------       --------------  -----  \n",
            " 0   Age          200 non-null    int64  \n",
            " 1   Sex          200 non-null    object \n",
            " 2   BP           200 non-null    object \n",
            " 3   Cholesterol  200 non-null    object \n",
            " 4   Na_to_K      200 non-null    float64\n",
            " 5   Drug         200 non-null    object \n",
            "dtypes: float64(1), int64(1), object(4)\n",
            "memory usage: 9.5+ KB\n"
          ]
        }
      ],
      "source": [
        "data.info()"
      ]
    },
    {
      "cell_type": "markdown",
      "id": "e5155736",
      "metadata": {
        "papermill": {
          "duration": 0.01039,
          "end_time": "2022-12-20T07:31:30.113560",
          "exception": false,
          "start_time": "2022-12-20T07:31:30.103170",
          "status": "completed"
        },
        "tags": [],
        "id": "e5155736"
      },
      "source": [
        "## Missing Values "
      ]
    },
    {
      "cell_type": "code",
      "execution_count": null,
      "id": "3172c910",
      "metadata": {
        "execution": {
          "iopub.execute_input": "2022-12-20T07:31:30.137030Z",
          "iopub.status.busy": "2022-12-20T07:31:30.136255Z",
          "iopub.status.idle": "2022-12-20T07:31:30.146428Z",
          "shell.execute_reply": "2022-12-20T07:31:30.145249Z"
        },
        "papermill": {
          "duration": 0.024772,
          "end_time": "2022-12-20T07:31:30.148828",
          "exception": false,
          "start_time": "2022-12-20T07:31:30.124056",
          "status": "completed"
        },
        "tags": [],
        "colab": {
          "base_uri": "https://localhost:8080/"
        },
        "id": "3172c910",
        "outputId": "54c41307-5454-4824-9add-e02eb5b6ccbe"
      },
      "outputs": [
        {
          "output_type": "execute_result",
          "data": {
            "text/plain": [
              "Age            0\n",
              "Sex            0\n",
              "BP             0\n",
              "Cholesterol    0\n",
              "Na_to_K        0\n",
              "Drug           0\n",
              "dtype: int64"
            ]
          },
          "metadata": {},
          "execution_count": 9
        }
      ],
      "source": [
        "data.isna().sum() #checking missed values in the dataframe"
      ]
    },
    {
      "cell_type": "code",
      "execution_count": null,
      "id": "249f58f7",
      "metadata": {
        "execution": {
          "iopub.execute_input": "2022-12-20T07:31:30.172106Z",
          "iopub.status.busy": "2022-12-20T07:31:30.171605Z",
          "iopub.status.idle": "2022-12-20T07:31:30.184998Z",
          "shell.execute_reply": "2022-12-20T07:31:30.183894Z"
        },
        "papermill": {
          "duration": 0.027831,
          "end_time": "2022-12-20T07:31:30.187206",
          "exception": false,
          "start_time": "2022-12-20T07:31:30.159375",
          "status": "completed"
        },
        "tags": [],
        "colab": {
          "base_uri": "https://localhost:8080/"
        },
        "id": "249f58f7",
        "outputId": "f13823d8-ed7d-40ec-8d02-a0bca207ec48"
      },
      "outputs": [
        {
          "output_type": "execute_result",
          "data": {
            "text/plain": [
              "Age             57\n",
              "Sex              2\n",
              "BP               3\n",
              "Cholesterol      2\n",
              "Na_to_K        198\n",
              "Drug             5\n",
              "dtype: int64"
            ]
          },
          "metadata": {},
          "execution_count": 10
        }
      ],
      "source": [
        "data.nunique() # returning unique elements"
      ]
    },
    {
      "cell_type": "code",
      "execution_count": null,
      "id": "46e756f7",
      "metadata": {
        "execution": {
          "iopub.execute_input": "2022-12-20T07:31:30.210815Z",
          "iopub.status.busy": "2022-12-20T07:31:30.210316Z",
          "iopub.status.idle": "2022-12-20T07:31:30.216078Z",
          "shell.execute_reply": "2022-12-20T07:31:30.214955Z"
        },
        "papermill": {
          "duration": 0.020566,
          "end_time": "2022-12-20T07:31:30.218445",
          "exception": false,
          "start_time": "2022-12-20T07:31:30.197879",
          "status": "completed"
        },
        "tags": [],
        "id": "46e756f7"
      },
      "outputs": [],
      "source": [
        "plt.style.use('ggplot')\n",
        "plt.rcParams[\"figure.figsize\"] = (10,5) #valuating data"
      ]
    },
    {
      "cell_type": "markdown",
      "id": "be7b1c20",
      "metadata": {
        "papermill": {
          "duration": 0.010319,
          "end_time": "2022-12-20T07:31:30.239438",
          "exception": false,
          "start_time": "2022-12-20T07:31:30.229119",
          "status": "completed"
        },
        "tags": [],
        "id": "be7b1c20"
      },
      "source": [
        "## Feature's selection"
      ]
    },
    {
      "cell_type": "code",
      "execution_count": null,
      "id": "4f5873d4",
      "metadata": {
        "execution": {
          "iopub.execute_input": "2022-12-20T07:31:30.263404Z",
          "iopub.status.busy": "2022-12-20T07:31:30.262103Z",
          "iopub.status.idle": "2022-12-20T07:31:30.607372Z",
          "shell.execute_reply": "2022-12-20T07:31:30.604262Z"
        },
        "papermill": {
          "duration": 0.360212,
          "end_time": "2022-12-20T07:31:30.610184",
          "exception": false,
          "start_time": "2022-12-20T07:31:30.249972",
          "status": "completed"
        },
        "tags": [],
        "colab": {
          "base_uri": "https://localhost:8080/",
          "height": 371
        },
        "id": "4f5873d4",
        "outputId": "a797b55a-0db4-45c9-f165-9a4de05da888"
      },
      "outputs": [
        {
          "output_type": "execute_result",
          "data": {
            "text/plain": [
              "Text(0.5, 1.0, 'Age')"
            ]
          },
          "metadata": {},
          "execution_count": 12
        },
        {
          "output_type": "display_data",
          "data": {
            "text/plain": [
              "<Figure size 720x360 with 1 Axes>"
            ],
            "image/png": "[encoded data removed]"
          },
          "metadata": {}
        }
      ],
      "source": [
        "sns.histplot(data=data , x='Age' , kde=True)\n",
        "plt.title('Age')\n"
      ]
    },
    {
      "cell_type": "code",
      "execution_count": null,
      "id": "2e85aca7",
      "metadata": {
        "execution": {
          "iopub.execute_input": "2022-12-20T07:31:30.636785Z",
          "iopub.status.busy": "2022-12-20T07:31:30.635514Z",
          "iopub.status.idle": "2022-12-20T07:31:30.906020Z",
          "shell.execute_reply": "2022-12-20T07:31:30.904890Z"
        },
        "papermill": {
          "duration": 0.2866,
          "end_time": "2022-12-20T07:31:30.908858",
          "exception": false,
          "start_time": "2022-12-20T07:31:30.622258",
          "status": "completed"
        },
        "tags": [],
        "colab": {
          "base_uri": "https://localhost:8080/",
          "height": 371
        },
        "id": "2e85aca7",
        "outputId": "0d6d9463-4002-4e79-874d-6692286feaca"
      },
      "outputs": [
        {
          "output_type": "execute_result",
          "data": {
            "text/plain": [
              "Text(0.5, 1.0, 'Na_to_K')"
            ]
          },
          "metadata": {},
          "execution_count": 13
        },
        {
          "output_type": "display_data",
          "data": {
            "text/plain": [
              "<Figure size 720x360 with 1 Axes>"
            ],
            "image/png": "[encoded data removed]"
          },
          "metadata": {}
        }
      ],
      "source": [
        "sns.histplot(data=data , x='Na_to_K' , kde=True)\n",
        "plt.title('Na_to_K')"
      ]
    },
    {
      "cell_type": "markdown",
      "id": "0db3f234",
      "metadata": {
        "papermill": {
          "duration": 0.015297,
          "end_time": "2022-12-20T07:31:33.734946",
          "exception": false,
          "start_time": "2022-12-20T07:31:33.719649",
          "status": "completed"
        },
        "tags": [],
        "id": "0db3f234"
      },
      "source": [
        "## Features with target"
      ]
    },
    {
      "cell_type": "code",
      "execution_count": null,
      "id": "5df7e630",
      "metadata": {
        "execution": {
          "iopub.execute_input": "2022-12-20T07:31:33.766188Z",
          "iopub.status.busy": "2022-12-20T07:31:33.765706Z",
          "iopub.status.idle": "2022-12-20T07:31:34.476983Z",
          "shell.execute_reply": "2022-12-20T07:31:34.475731Z"
        },
        "papermill": {
          "duration": 0.729801,
          "end_time": "2022-12-20T07:31:34.479512",
          "exception": false,
          "start_time": "2022-12-20T07:31:33.749711",
          "status": "completed"
        },
        "tags": [],
        "colab": {
          "base_uri": "https://localhost:8080/",
          "height": 863
        },
        "id": "5df7e630",
        "outputId": "a3539db1-7bb6-4088-b7ad-09276a1e8eef"
      },
      "outputs": [
        {
          "output_type": "display_data",
          "data": {
            "text/plain": [
              "<Figure size 576x288 with 1 Axes>"
            ],
            "image/png": "[encoded data removed]"
          },
          "metadata": {}
        },
        {
          "output_type": "display_data",
          "data": {
            "text/plain": [
              "<Figure size 576x288 with 1 Axes>"
            ],
            "image/png": "[encoded data removed]"
          },
          "metadata": {}
        },
        {
          "output_type": "display_data",
          "data": {
            "text/plain": [
              "<Figure size 576x288 with 1 Axes>"
            ],
            "image/png": "[encoded data removed]"
          },
          "metadata": {}
        }
      ],
      "source": [
        "for i in data.columns : \n",
        "    if (data[i].dtype == 'object') & ( i != 'Drug') : \n",
        "        plt.figure(figsize=(8,4))\n",
        "        sns.countplot(data=data , hue=i , x='Drug')\n",
        "        plt.title(i)\n",
        "        plt.show()"
      ]
    },
    {
      "cell_type": "code",
      "execution_count": null,
      "id": "3a7e082a",
      "metadata": {
        "execution": {
          "iopub.execute_input": "2022-12-20T07:31:34.513644Z",
          "iopub.status.busy": "2022-12-20T07:31:34.513150Z",
          "iopub.status.idle": "2022-12-20T07:31:34.519010Z",
          "shell.execute_reply": "2022-12-20T07:31:34.517848Z"
        },
        "papermill": {
          "duration": 0.024802,
          "end_time": "2022-12-20T07:31:34.521314",
          "exception": false,
          "start_time": "2022-12-20T07:31:34.496512",
          "status": "completed"
        },
        "tags": [],
        "id": "3a7e082a"
      },
      "outputs": [],
      "source": [
        "data_final = data.copy() #copy of the variable data"
      ]
    },
    {
      "cell_type": "markdown",
      "id": "fbe2ff12",
      "metadata": {
        "papermill": {
          "duration": 0.014704,
          "end_time": "2022-12-20T07:31:34.550877",
          "exception": false,
          "start_time": "2022-12-20T07:31:34.536173",
          "status": "completed"
        },
        "tags": [],
        "id": "fbe2ff12"
      },
      "source": [
        "## Features Engineering "
      ]
    },
    {
      "cell_type": "code",
      "execution_count": null,
      "id": "fbea95fd",
      "metadata": {
        "execution": {
          "iopub.execute_input": "2022-12-20T07:31:34.583530Z",
          "iopub.status.busy": "2022-12-20T07:31:34.583020Z",
          "iopub.status.idle": "2022-12-20T07:31:34.601054Z",
          "shell.execute_reply": "2022-12-20T07:31:34.599882Z"
        },
        "papermill": {
          "duration": 0.037532,
          "end_time": "2022-12-20T07:31:34.603412",
          "exception": false,
          "start_time": "2022-12-20T07:31:34.565880",
          "status": "completed"
        },
        "tags": [],
        "id": "fbea95fd"
      },
      "outputs": [],
      "source": [
        "for i in data_final.drop('Drug' , axis=1).columns : \n",
        "    if data_final[i].dtype == 'object' : \n",
        "        dummies = pd.get_dummies(data[i] , prefix=f'{i}_')\n",
        "        data_final = pd.concat([data_final , dummies] , axis=1)\n",
        "        data_final = data_final.drop(i , axis=1)\n"
      ]
    },
    {
      "cell_type": "code",
      "execution_count": null,
      "id": "b1ba985c",
      "metadata": {
        "execution": {
          "iopub.execute_input": "2022-12-20T07:31:34.636951Z",
          "iopub.status.busy": "2022-12-20T07:31:34.635620Z",
          "iopub.status.idle": "2022-12-20T07:31:34.651998Z",
          "shell.execute_reply": "2022-12-20T07:31:34.650755Z"
        },
        "papermill": {
          "duration": 0.035675,
          "end_time": "2022-12-20T07:31:34.654402",
          "exception": false,
          "start_time": "2022-12-20T07:31:34.618727",
          "status": "completed"
        },
        "tags": [],
        "colab": {
          "base_uri": "https://localhost:8080/",
          "height": 250
        },
        "id": "b1ba985c",
        "outputId": "cff3ee53-3883-48b5-a220-4795ed44bda9"
      },
      "outputs": [
        {
          "output_type": "execute_result",
          "data": {
            "text/plain": [
              "   Age  Na_to_K   Drug  Sex__F  Sex__M  BP__HIGH  BP__LOW  BP__NORMAL  \\\n",
              "0   23   25.355  DrugY       1       0         1        0           0   \n",
              "1   47   13.093  drugC       0       1         0        1           0   \n",
              "2   47   10.114  drugC       0       1         0        1           0   \n",
              "3   28    7.798  drugX       1       0         0        0           1   \n",
              "4   61   18.043  DrugY       1       0         0        1           0   \n",
              "\n",
              "   Cholesterol__HIGH  Cholesterol__NORMAL  \n",
              "0                  1                    0  \n",
              "1                  1                    0  \n",
              "2                  1                    0  \n",
              "3                  1                    0  \n",
              "4                  1                    0  "
            ],
            "text/html": [
              "\n",
              "  <div id=\"df-3b1e8beb-3f0e-4264-815d-3c55010ecdfa\">\n",
              "    <div class=\"colab-df-container\">\n",
              "      <div>\n",
              "<style scoped>\n",
              "    .dataframe tbody tr th:only-of-type {\n",
              "        vertical-align: middle;\n",
              "    }\n",
              "\n",
              "    .dataframe tbody tr th {\n",
              "        vertical-align: top;\n",
              "    }\n",
              "\n",
              "    .dataframe thead th {\n",
              "        text-align: right;\n",
              "    }\n",
              "</style>\n",
              "<table border=\"1\" class=\"dataframe\">\n",
              "  <thead>\n",
              "    <tr style=\"text-align: right;\">\n",
              "      <th></th>\n",
              "      <th>Age</th>\n",
              "      <th>Na_to_K</th>\n",
              "      <th>Drug</th>\n",
              "      <th>Sex__F</th>\n",
              "      <th>Sex__M</th>\n",
              "      <th>BP__HIGH</th>\n",
              "      <th>BP__LOW</th>\n",
              "      <th>BP__NORMAL</th>\n",
              "      <th>Cholesterol__HIGH</th>\n",
              "      <th>Cholesterol__NORMAL</th>\n",
              "    </tr>\n",
              "  </thead>\n",
              "  <tbody>\n",
              "    <tr>\n",
              "      <th>0</th>\n",
              "      <td>23</td>\n",
              "      <td>25.355</td>\n",
              "      <td>DrugY</td>\n",
              "      <td>1</td>\n",
              "      <td>0</td>\n",
              "      <td>1</td>\n",
              "      <td>0</td>\n",
              "      <td>0</td>\n",
              "      <td>1</td>\n",
              "      <td>0</td>\n",
              "    </tr>\n",
              "    <tr>\n",
              "      <th>1</th>\n",
              "      <td>47</td>\n",
              "      <td>13.093</td>\n",
              "      <td>drugC</td>\n",
              "      <td>0</td>\n",
              "      <td>1</td>\n",
              "      <td>0</td>\n",
              "      <td>1</td>\n",
              "      <td>0</td>\n",
              "      <td>1</td>\n",
              "      <td>0</td>\n",
              "    </tr>\n",
              "    <tr>\n",
              "      <th>2</th>\n",
              "      <td>47</td>\n",
              "      <td>10.114</td>\n",
              "      <td>drugC</td>\n",
              "      <td>0</td>\n",
              "      <td>1</td>\n",
              "      <td>0</td>\n",
              "      <td>1</td>\n",
              "      <td>0</td>\n",
              "      <td>1</td>\n",
              "      <td>0</td>\n",
              "    </tr>\n",
              "    <tr>\n",
              "      <th>3</th>\n",
              "      <td>28</td>\n",
              "      <td>7.798</td>\n",
              "      <td>drugX</td>\n",
              "      <td>1</td>\n",
              "      <td>0</td>\n",
              "      <td>0</td>\n",
              "      <td>0</td>\n",
              "      <td>1</td>\n",
              "      <td>1</td>\n",
              "      <td>0</td>\n",
              "    </tr>\n",
              "    <tr>\n",
              "      <th>4</th>\n",
              "      <td>61</td>\n",
              "      <td>18.043</td>\n",
              "      <td>DrugY</td>\n",
              "      <td>1</td>\n",
              "      <td>0</td>\n",
              "      <td>0</td>\n",
              "      <td>1</td>\n",
              "      <td>0</td>\n",
              "      <td>1</td>\n",
              "      <td>0</td>\n",
              "    </tr>\n",
              "  </tbody>\n",
              "</table>\n",
              "</div>\n",
              "      <button class=\"colab-df-convert\" onclick=\"convertToInteractive('df-3b1e8beb-3f0e-4264-815d-3c55010ecdfa')\"\n",
              "              title=\"Convert this dataframe to an interactive table.\"\n",
              "              style=\"display:none;\">\n",
              "        \n",
              "  <svg xmlns=\"http://www.w3.org/2000/svg\" height=\"24px\"viewBox=\"0 0 24 24\"\n",
              "       width=\"24px\">\n",
              "    <path d=\"M0 0h24v24H0V0z\" fill=\"none\"/>\n",
              "    <path d=\"M18.56 5.44l.94 2.06.94-2.06 2.06-.94-2.06-.94-.94-2.06-.94 2.06-2.06.94zm-11 1L8.5 8.5l.94-2.06 2.06-.94-2.06-.94L8.5 2.5l-.94 2.06-2.06.94zm10 10l.94 2.06.94-2.06 2.06-.94-2.06-.94-.94-2.06-.94 2.06-2.06.94z\"/><path d=\"M17.41 7.96l-1.37-1.37c-.4-.4-.92-.59-1.43-.59-.52 0-1.04.2-1.43.59L10.3 9.45l-7.72 7.72c-.78.78-.78 2.05 0 2.83L4 21.41c.39.39.9.59 1.41.59.51 0 1.02-.2 1.41-.59l7.78-7.78 2.81-2.81c.8-.78.8-2.07 0-2.86zM5.41 20L4 18.59l7.72-7.72 1.47 1.35L5.41 20z\"/>\n",
              "  </svg>\n",
              "      </button>\n",
              "      \n",
              "  <style>\n",
              "    .colab-df-container {\n",
              "      display:flex;\n",
              "      flex-wrap:wrap;\n",
              "      gap: 12px;\n",
              "    }\n",
              "\n",
              "    .colab-df-convert {\n",
              "      background-color: #E8F0FE;\n",
              "      border: none;\n",
              "      border-radius: 50%;\n",
              "      cursor: pointer;\n",
              "      display: none;\n",
              "      fill: #1967D2;\n",
              "      height: 32px;\n",
              "      padding: 0 0 0 0;\n",
              "      width: 32px;\n",
              "    }\n",
              "\n",
              "    .colab-df-convert:hover {\n",
              "      background-color: #E2EBFA;\n",
              "      box-shadow: 0px 1px 2px rgba(60, 64, 67, 0.3), 0px 1px 3px 1px rgba(60, 64, 67, 0.15);\n",
              "      fill: #174EA6;\n",
              "    }\n",
              "\n",
              "    [theme=dark] .colab-df-convert {\n",
              "      background-color: #3B4455;\n",
              "      fill: #D2E3FC;\n",
              "    }\n",
              "\n",
              "    [theme=dark] .colab-df-convert:hover {\n",
              "      background-color: #434B5C;\n",
              "      box-shadow: 0px 1px 3px 1px rgba(0, 0, 0, 0.15);\n",
              "      filter: drop-shadow(0px 1px 2px rgba(0, 0, 0, 0.3));\n",
              "      fill: #FFFFFF;\n",
              "    }\n",
              "  </style>\n",
              "\n",
              "      <script>\n",
              "        const buttonEl =\n",
              "          document.querySelector('#df-3b1e8beb-3f0e-4264-815d-3c55010ecdfa button.colab-df-convert');\n",
              "        buttonEl.style.display =\n",
              "          google.colab.kernel.accessAllowed ? 'block' : 'none';\n",
              "\n",
              "        async function convertToInteractive(key) {\n",
              "          const element = document.querySelector('#df-3b1e8beb-3f0e-4264-815d-3c55010ecdfa');\n",
              "          const dataTable =\n",
              "            await google.colab.kernel.invokeFunction('convertToInteractive',\n",
              "                                                     [key], {});\n",
              "          if (!dataTable) return;\n",
              "\n",
              "          const docLinkHtml = 'Like what you see? Visit the ' +\n",
              "            '<a target=\"_blank\" href=https://colab.research.google.com/notebooks/data_table.ipynb>data table notebook</a>'\n",
              "            + ' to learn more about interactive tables.';\n",
              "          element.innerHTML = '';\n",
              "          dataTable['output_type'] = 'display_data';\n",
              "          await google.colab.output.renderOutput(dataTable, element);\n",
              "          const docLink = document.createElement('div');\n",
              "          docLink.innerHTML = docLinkHtml;\n",
              "          element.appendChild(docLink);\n",
              "        }\n",
              "      </script>\n",
              "    </div>\n",
              "  </div>\n",
              "  "
            ]
          },
          "metadata": {},
          "execution_count": 17
        }
      ],
      "source": [
        "data_final.head()"
      ]
    },
    {
      "cell_type": "code",
      "execution_count": null,
      "id": "c8054d3d",
      "metadata": {
        "execution": {
          "iopub.execute_input": "2022-12-20T07:31:34.687995Z",
          "iopub.status.busy": "2022-12-20T07:31:34.686827Z",
          "iopub.status.idle": "2022-12-20T07:31:34.694144Z",
          "shell.execute_reply": "2022-12-20T07:31:34.692988Z"
        },
        "papermill": {
          "duration": 0.026829,
          "end_time": "2022-12-20T07:31:34.696477",
          "exception": false,
          "start_time": "2022-12-20T07:31:34.669648",
          "status": "completed"
        },
        "tags": [],
        "id": "c8054d3d"
      },
      "outputs": [],
      "source": [
        "features = data_final.drop('Drug' , axis=1)\n",
        "target = data_final['Drug']"
      ]
    },
    {
      "cell_type": "code",
      "execution_count": null,
      "id": "b41bb86c",
      "metadata": {
        "execution": {
          "iopub.execute_input": "2022-12-20T07:31:34.730792Z",
          "iopub.status.busy": "2022-12-20T07:31:34.730327Z",
          "iopub.status.idle": "2022-12-20T07:31:34.743600Z",
          "shell.execute_reply": "2022-12-20T07:31:34.742757Z"
        },
        "papermill": {
          "duration": 0.032819,
          "end_time": "2022-12-20T07:31:34.745613",
          "exception": false,
          "start_time": "2022-12-20T07:31:34.712794",
          "status": "completed"
        },
        "tags": [],
        "colab": {
          "base_uri": "https://localhost:8080/",
          "height": 206
        },
        "id": "b41bb86c",
        "outputId": "4509cd21-6bc7-4e24-f48b-98d764d03d4b"
      },
      "outputs": [
        {
          "output_type": "execute_result",
          "data": {
            "text/plain": [
              "   Age  Na_to_K  Sex__F  Sex__M  BP__HIGH  BP__LOW  BP__NORMAL  \\\n",
              "0   23   25.355       1       0         1        0           0   \n",
              "1   47   13.093       0       1         0        1           0   \n",
              "2   47   10.114       0       1         0        1           0   \n",
              "3   28    7.798       1       0         0        0           1   \n",
              "4   61   18.043       1       0         0        1           0   \n",
              "\n",
              "   Cholesterol__HIGH  Cholesterol__NORMAL  \n",
              "0                  1                    0  \n",
              "1                  1                    0  \n",
              "2                  1                    0  \n",
              "3                  1                    0  \n",
              "4                  1                    0  "
            ],
            "text/html": [
              "\n",
              "  <div id=\"df-afa91163-8cf0-4b2e-97d3-1866a8615893\">\n",
              "    <div class=\"colab-df-container\">\n",
              "      <div>\n",
              "<style scoped>\n",
              "    .dataframe tbody tr th:only-of-type {\n",
              "        vertical-align: middle;\n",
              "    }\n",
              "\n",
              "    .dataframe tbody tr th {\n",
              "        vertical-align: top;\n",
              "    }\n",
              "\n",
              "    .dataframe thead th {\n",
              "        text-align: right;\n",
              "    }\n",
              "</style>\n",
              "<table border=\"1\" class=\"dataframe\">\n",
              "  <thead>\n",
              "    <tr style=\"text-align: right;\">\n",
              "      <th></th>\n",
              "      <th>Age</th>\n",
              "      <th>Na_to_K</th>\n",
              "      <th>Sex__F</th>\n",
              "      <th>Sex__M</th>\n",
              "      <th>BP__HIGH</th>\n",
              "      <th>BP__LOW</th>\n",
              "      <th>BP__NORMAL</th>\n",
              "      <th>Cholesterol__HIGH</th>\n",
              "      <th>Cholesterol__NORMAL</th>\n",
              "    </tr>\n",
              "  </thead>\n",
              "  <tbody>\n",
              "    <tr>\n",
              "      <th>0</th>\n",
              "      <td>23</td>\n",
              "      <td>25.355</td>\n",
              "      <td>1</td>\n",
              "      <td>0</td>\n",
              "      <td>1</td>\n",
              "      <td>0</td>\n",
              "      <td>0</td>\n",
              "      <td>1</td>\n",
              "      <td>0</td>\n",
              "    </tr>\n",
              "    <tr>\n",
              "      <th>1</th>\n",
              "      <td>47</td>\n",
              "      <td>13.093</td>\n",
              "      <td>0</td>\n",
              "      <td>1</td>\n",
              "      <td>0</td>\n",
              "      <td>1</td>\n",
              "      <td>0</td>\n",
              "      <td>1</td>\n",
              "      <td>0</td>\n",
              "    </tr>\n",
              "    <tr>\n",
              "      <th>2</th>\n",
              "      <td>47</td>\n",
              "      <td>10.114</td>\n",
              "      <td>0</td>\n",
              "      <td>1</td>\n",
              "      <td>0</td>\n",
              "      <td>1</td>\n",
              "      <td>0</td>\n",
              "      <td>1</td>\n",
              "      <td>0</td>\n",
              "    </tr>\n",
              "    <tr>\n",
              "      <th>3</th>\n",
              "      <td>28</td>\n",
              "      <td>7.798</td>\n",
              "      <td>1</td>\n",
              "      <td>0</td>\n",
              "      <td>0</td>\n",
              "      <td>0</td>\n",
              "      <td>1</td>\n",
              "      <td>1</td>\n",
              "      <td>0</td>\n",
              "    </tr>\n",
              "    <tr>\n",
              "      <th>4</th>\n",
              "      <td>61</td>\n",
              "      <td>18.043</td>\n",
              "      <td>1</td>\n",
              "      <td>0</td>\n",
              "      <td>0</td>\n",
              "      <td>1</td>\n",
              "      <td>0</td>\n",
              "      <td>1</td>\n",
              "      <td>0</td>\n",
              "    </tr>\n",
              "  </tbody>\n",
              "</table>\n",
              "</div>\n",
              "      <button class=\"colab-df-convert\" onclick=\"convertToInteractive('df-afa91163-8cf0-4b2e-97d3-1866a8615893')\"\n",
              "              title=\"Convert this dataframe to an interactive table.\"\n",
              "              style=\"display:none;\">\n",
              "        \n",
              "  <svg xmlns=\"http://www.w3.org/2000/svg\" height=\"24px\"viewBox=\"0 0 24 24\"\n",
              "       width=\"24px\">\n",
              "    <path d=\"M0 0h24v24H0V0z\" fill=\"none\"/>\n",
              "    <path d=\"M18.56 5.44l.94 2.06.94-2.06 2.06-.94-2.06-.94-.94-2.06-.94 2.06-2.06.94zm-11 1L8.5 8.5l.94-2.06 2.06-.94-2.06-.94L8.5 2.5l-.94 2.06-2.06.94zm10 10l.94 2.06.94-2.06 2.06-.94-2.06-.94-.94-2.06-.94 2.06-2.06.94z\"/><path d=\"M17.41 7.96l-1.37-1.37c-.4-.4-.92-.59-1.43-.59-.52 0-1.04.2-1.43.59L10.3 9.45l-7.72 7.72c-.78.78-.78 2.05 0 2.83L4 21.41c.39.39.9.59 1.41.59.51 0 1.02-.2 1.41-.59l7.78-7.78 2.81-2.81c.8-.78.8-2.07 0-2.86zM5.41 20L4 18.59l7.72-7.72 1.47 1.35L5.41 20z\"/>\n",
              "  </svg>\n",
              "      </button>\n",
              "      \n",
              "  <style>\n",
              "    .colab-df-container {\n",
              "      display:flex;\n",
              "      flex-wrap:wrap;\n",
              "      gap: 12px;\n",
              "    }\n",
              "\n",
              "    .colab-df-convert {\n",
              "      background-color: #E8F0FE;\n",
              "      border: none;\n",
              "      border-radius: 50%;\n",
              "      cursor: pointer;\n",
              "      display: none;\n",
              "      fill: #1967D2;\n",
              "      height: 32px;\n",
              "      padding: 0 0 0 0;\n",
              "      width: 32px;\n",
              "    }\n",
              "\n",
              "    .colab-df-convert:hover {\n",
              "      background-color: #E2EBFA;\n",
              "      box-shadow: 0px 1px 2px rgba(60, 64, 67, 0.3), 0px 1px 3px 1px rgba(60, 64, 67, 0.15);\n",
              "      fill: #174EA6;\n",
              "    }\n",
              "\n",
              "    [theme=dark] .colab-df-convert {\n",
              "      background-color: #3B4455;\n",
              "      fill: #D2E3FC;\n",
              "    }\n",
              "\n",
              "    [theme=dark] .colab-df-convert:hover {\n",
              "      background-color: #434B5C;\n",
              "      box-shadow: 0px 1px 3px 1px rgba(0, 0, 0, 0.15);\n",
              "      filter: drop-shadow(0px 1px 2px rgba(0, 0, 0, 0.3));\n",
              "      fill: #FFFFFF;\n",
              "    }\n",
              "  </style>\n",
              "\n",
              "      <script>\n",
              "        const buttonEl =\n",
              "          document.querySelector('#df-afa91163-8cf0-4b2e-97d3-1866a8615893 button.colab-df-convert');\n",
              "        buttonEl.style.display =\n",
              "          google.colab.kernel.accessAllowed ? 'block' : 'none';\n",
              "\n",
              "        async function convertToInteractive(key) {\n",
              "          const element = document.querySelector('#df-afa91163-8cf0-4b2e-97d3-1866a8615893');\n",
              "          const dataTable =\n",
              "            await google.colab.kernel.invokeFunction('convertToInteractive',\n",
              "                                                     [key], {});\n",
              "          if (!dataTable) return;\n",
              "\n",
              "          const docLinkHtml = 'Like what you see? Visit the ' +\n",
              "            '<a target=\"_blank\" href=https://colab.research.google.com/notebooks/data_table.ipynb>data table notebook</a>'\n",
              "            + ' to learn more about interactive tables.';\n",
              "          element.innerHTML = '';\n",
              "          dataTable['output_type'] = 'display_data';\n",
              "          await google.colab.output.renderOutput(dataTable, element);\n",
              "          const docLink = document.createElement('div');\n",
              "          docLink.innerHTML = docLinkHtml;\n",
              "          element.appendChild(docLink);\n",
              "        }\n",
              "      </script>\n",
              "    </div>\n",
              "  </div>\n",
              "  "
            ]
          },
          "metadata": {},
          "execution_count": 19
        }
      ],
      "source": [
        "features.head()"
      ]
    },
    {
      "cell_type": "code",
      "execution_count": null,
      "id": "3c52c84a",
      "metadata": {
        "execution": {
          "iopub.execute_input": "2022-12-20T07:31:34.779215Z",
          "iopub.status.busy": "2022-12-20T07:31:34.778809Z",
          "iopub.status.idle": "2022-12-20T07:31:34.787029Z",
          "shell.execute_reply": "2022-12-20T07:31:34.786085Z"
        },
        "papermill": {
          "duration": 0.027658,
          "end_time": "2022-12-20T07:31:34.789204",
          "exception": false,
          "start_time": "2022-12-20T07:31:34.761546",
          "status": "completed"
        },
        "tags": [],
        "colab": {
          "base_uri": "https://localhost:8080/"
        },
        "id": "3c52c84a",
        "outputId": "60e343d7-821c-4d73-be9f-284d6644f650"
      },
      "outputs": [
        {
          "output_type": "execute_result",
          "data": {
            "text/plain": [
              "DrugY    91\n",
              "drugX    54\n",
              "drugA    23\n",
              "drugC    16\n",
              "drugB    16\n",
              "Name: Drug, dtype: int64"
            ]
          },
          "metadata": {},
          "execution_count": 20
        }
      ],
      "source": [
        "target.value_counts()"
      ]
    },
    {
      "cell_type": "code",
      "execution_count": null,
      "id": "4ee89508",
      "metadata": {
        "execution": {
          "iopub.execute_input": "2022-12-20T07:31:34.823778Z",
          "iopub.status.busy": "2022-12-20T07:31:34.823314Z",
          "iopub.status.idle": "2022-12-20T07:31:34.829638Z",
          "shell.execute_reply": "2022-12-20T07:31:34.828874Z"
        },
        "papermill": {
          "duration": 0.026022,
          "end_time": "2022-12-20T07:31:34.831683",
          "exception": false,
          "start_time": "2022-12-20T07:31:34.805661",
          "status": "completed"
        },
        "tags": [],
        "id": "4ee89508"
      },
      "outputs": [],
      "source": [
        "x_train , x_test , y_train , y_test = train_test_split(features , target , test_size=0.2 , shuffle=True  )"
      ]
    },
    {
      "cell_type": "code",
      "execution_count": null,
      "id": "15c19e9f",
      "metadata": {
        "execution": {
          "iopub.execute_input": "2022-12-20T07:31:34.865913Z",
          "iopub.status.busy": "2022-12-20T07:31:34.865114Z",
          "iopub.status.idle": "2022-12-20T07:31:34.872008Z",
          "shell.execute_reply": "2022-12-20T07:31:34.870501Z"
        },
        "papermill": {
          "duration": 0.026536,
          "end_time": "2022-12-20T07:31:34.874438",
          "exception": false,
          "start_time": "2022-12-20T07:31:34.847902",
          "status": "completed"
        },
        "tags": [],
        "colab": {
          "base_uri": "https://localhost:8080/"
        },
        "id": "15c19e9f",
        "outputId": "4bf50b04-b82a-40b6-8099-a7729bb56c9d"
      },
      "outputs": [
        {
          "output_type": "stream",
          "name": "stdout",
          "text": [
            "Train Data = 160\n",
            "Test Data = 40\n"
          ]
        }
      ],
      "source": [
        "print(f'Train Data = {len(x_train)}')\n",
        "print(f'Test Data = {len(x_test)}')"
      ]
    },
    {
      "cell_type": "code",
      "execution_count": null,
      "id": "7259d195",
      "metadata": {
        "execution": {
          "iopub.execute_input": "2022-12-20T07:31:34.910535Z",
          "iopub.status.busy": "2022-12-20T07:31:34.910132Z",
          "iopub.status.idle": "2022-12-20T07:31:34.915433Z",
          "shell.execute_reply": "2022-12-20T07:31:34.914088Z"
        },
        "papermill": {
          "duration": 0.025891,
          "end_time": "2022-12-20T07:31:34.917794",
          "exception": false,
          "start_time": "2022-12-20T07:31:34.891903",
          "status": "completed"
        },
        "tags": [],
        "id": "7259d195"
      },
      "outputs": [],
      "source": [
        "scaler = StandardScaler() #normalisation of data\n",
        "#he distribution of each feature is centered around 0 with a standard deviation of 1"
      ]
    },
    {
      "cell_type": "code",
      "execution_count": null,
      "id": "1139a23f",
      "metadata": {
        "execution": {
          "iopub.execute_input": "2022-12-20T07:31:34.952107Z",
          "iopub.status.busy": "2022-12-20T07:31:34.951739Z",
          "iopub.status.idle": "2022-12-20T07:31:34.963154Z",
          "shell.execute_reply": "2022-12-20T07:31:34.961862Z"
        },
        "papermill": {
          "duration": 0.031709,
          "end_time": "2022-12-20T07:31:34.965789",
          "exception": false,
          "start_time": "2022-12-20T07:31:34.934080",
          "status": "completed"
        },
        "tags": [],
        "id": "1139a23f"
      },
      "outputs": [],
      "source": [
        "#standardisation of dataset\n",
        "\n",
        "x_train = scaler.fit_transform(x_train)\n",
        "x_test = scaler.transform(x_test)"
      ]
    },
    {
      "cell_type": "markdown",
      "id": "36f4fb19",
      "metadata": {
        "papermill": {
          "duration": 0.015888,
          "end_time": "2022-12-20T07:31:34.998383",
          "exception": false,
          "start_time": "2022-12-20T07:31:34.982495",
          "status": "completed"
        },
        "tags": [],
        "id": "36f4fb19"
      },
      "source": [
        "## Fix Imbalance Data"
      ]
    },
    {
      "cell_type": "code",
      "execution_count": null,
      "id": "73570caf",
      "metadata": {
        "execution": {
          "iopub.execute_input": "2022-12-20T07:31:35.033215Z",
          "iopub.status.busy": "2022-12-20T07:31:35.032837Z",
          "iopub.status.idle": "2022-12-20T07:31:35.037923Z",
          "shell.execute_reply": "2022-12-20T07:31:35.036625Z"
        },
        "papermill": {
          "duration": 0.025553,
          "end_time": "2022-12-20T07:31:35.040181",
          "exception": false,
          "start_time": "2022-12-20T07:31:35.014628",
          "status": "completed"
        },
        "tags": [],
        "id": "73570caf"
      },
      "outputs": [],
      "source": [
        "smote = SMOTE()"
      ]
    },
    {
      "cell_type": "code",
      "execution_count": null,
      "id": "38bd6016",
      "metadata": {
        "execution": {
          "iopub.execute_input": "2022-12-20T07:31:35.075596Z",
          "iopub.status.busy": "2022-12-20T07:31:35.075165Z",
          "iopub.status.idle": "2022-12-20T07:31:35.088747Z",
          "shell.execute_reply": "2022-12-20T07:31:35.087548Z"
        },
        "papermill": {
          "duration": 0.034179,
          "end_time": "2022-12-20T07:31:35.091419",
          "exception": false,
          "start_time": "2022-12-20T07:31:35.057240",
          "status": "completed"
        },
        "tags": [],
        "id": "38bd6016"
      },
      "outputs": [],
      "source": [
        "x_train , y_train = smote.fit_resample(x_train , y_train)"
      ]
    },
    {
      "cell_type": "code",
      "execution_count": null,
      "id": "c365abfc",
      "metadata": {
        "execution": {
          "iopub.execute_input": "2022-12-20T07:31:35.125976Z",
          "iopub.status.busy": "2022-12-20T07:31:35.125158Z",
          "iopub.status.idle": "2022-12-20T07:31:35.135223Z",
          "shell.execute_reply": "2022-12-20T07:31:35.134178Z"
        },
        "papermill": {
          "duration": 0.029854,
          "end_time": "2022-12-20T07:31:35.137353",
          "exception": false,
          "start_time": "2022-12-20T07:31:35.107499",
          "status": "completed"
        },
        "tags": [],
        "colab": {
          "base_uri": "https://localhost:8080/"
        },
        "id": "c365abfc",
        "outputId": "34fb20ad-4423-4822-dfe0-b5e9a651c6ae"
      },
      "outputs": [
        {
          "output_type": "execute_result",
          "data": {
            "text/plain": [
              "DrugY    77\n",
              "drugB    77\n",
              "drugX    77\n",
              "drugA    77\n",
              "drugC    77\n",
              "Name: Drug, dtype: int64"
            ]
          },
          "metadata": {},
          "execution_count": 27
        }
      ],
      "source": [
        "y_train.value_counts()"
      ]
    },
    {
      "cell_type": "markdown",
      "id": "00e535dd",
      "metadata": {
        "papermill": {
          "duration": 0.016408,
          "end_time": "2022-12-20T07:31:35.169431",
          "exception": false,
          "start_time": "2022-12-20T07:31:35.153023",
          "status": "completed"
        },
        "tags": [],
        "id": "00e535dd"
      },
      "source": [
        "## Modeling "
      ]
    },
    {
      "cell_type": "code",
      "execution_count": null,
      "id": "4088294f",
      "metadata": {
        "execution": {
          "iopub.execute_input": "2022-12-20T07:31:35.203685Z",
          "iopub.status.busy": "2022-12-20T07:31:35.202627Z",
          "iopub.status.idle": "2022-12-20T07:31:35.207611Z",
          "shell.execute_reply": "2022-12-20T07:31:35.206893Z"
        },
        "papermill": {
          "duration": 0.024287,
          "end_time": "2022-12-20T07:31:35.209804",
          "exception": false,
          "start_time": "2022-12-20T07:31:35.185517",
          "status": "completed"
        },
        "tags": [],
        "id": "4088294f"
      },
      "outputs": [],
      "source": [
        "model = LogisticRegression()"
      ]
    },
    {
      "cell_type": "code",
      "execution_count": null,
      "id": "19fa75c9",
      "metadata": {
        "execution": {
          "iopub.execute_input": "2022-12-20T07:31:35.243206Z",
          "iopub.status.busy": "2022-12-20T07:31:35.242497Z",
          "iopub.status.idle": "2022-12-20T07:31:35.271028Z",
          "shell.execute_reply": "2022-12-20T07:31:35.269727Z"
        },
        "papermill": {
          "duration": 0.048096,
          "end_time": "2022-12-20T07:31:35.273469",
          "exception": false,
          "start_time": "2022-12-20T07:31:35.225373",
          "status": "completed"
        },
        "tags": [],
        "colab": {
          "base_uri": "https://localhost:8080/"
        },
        "id": "19fa75c9",
        "outputId": "7c52e720-f2da-4f54-8180-231341e8cf1c"
      },
      "outputs": [
        {
          "output_type": "execute_result",
          "data": {
            "text/plain": [
              "LogisticRegression()"
            ]
          },
          "metadata": {},
          "execution_count": 29
        }
      ],
      "source": [
        "model.fit(x_train , y_train)"
      ]
    },
    {
      "cell_type": "code",
      "execution_count": null,
      "id": "718468dd",
      "metadata": {
        "execution": {
          "iopub.execute_input": "2022-12-20T07:31:35.308127Z",
          "iopub.status.busy": "2022-12-20T07:31:35.306852Z",
          "iopub.status.idle": "2022-12-20T07:31:35.312923Z",
          "shell.execute_reply": "2022-12-20T07:31:35.311918Z"
        },
        "papermill": {
          "duration": 0.025565,
          "end_time": "2022-12-20T07:31:35.315083",
          "exception": false,
          "start_time": "2022-12-20T07:31:35.289518",
          "status": "completed"
        },
        "tags": [],
        "id": "718468dd"
      },
      "outputs": [],
      "source": [
        "prediction = model.predict(x_test) "
      ]
    },
    {
      "cell_type": "code",
      "execution_count": null,
      "id": "dd53bdcb",
      "metadata": {
        "execution": {
          "iopub.execute_input": "2022-12-20T07:31:35.348986Z",
          "iopub.status.busy": "2022-12-20T07:31:35.348043Z",
          "iopub.status.idle": "2022-12-20T07:31:35.355889Z",
          "shell.execute_reply": "2022-12-20T07:31:35.354574Z"
        },
        "papermill": {
          "duration": 0.027296,
          "end_time": "2022-12-20T07:31:35.358048",
          "exception": false,
          "start_time": "2022-12-20T07:31:35.330752",
          "status": "completed"
        },
        "tags": [],
        "colab": {
          "base_uri": "https://localhost:8080/"
        },
        "id": "dd53bdcb",
        "outputId": "67f1f691-89f4-426c-e336-776ed881aa42"
      },
      "outputs": [
        {
          "output_type": "execute_result",
          "data": {
            "text/plain": [
              "0.975"
            ]
          },
          "metadata": {},
          "execution_count": 31
        }
      ],
      "source": [
        "accuracy_score(y_test , prediction)"
      ]
    },
    {
      "cell_type": "code",
      "execution_count": null,
      "id": "7b3cd5d5",
      "metadata": {
        "execution": {
          "iopub.execute_input": "2022-12-20T07:31:35.392866Z",
          "iopub.status.busy": "2022-12-20T07:31:35.391686Z",
          "iopub.status.idle": "2022-12-20T07:31:35.404744Z",
          "shell.execute_reply": "2022-12-20T07:31:35.403059Z"
        },
        "papermill": {
          "duration": 0.033481,
          "end_time": "2022-12-20T07:31:35.407756",
          "exception": false,
          "start_time": "2022-12-20T07:31:35.374275",
          "status": "completed"
        },
        "tags": [],
        "colab": {
          "base_uri": "https://localhost:8080/"
        },
        "id": "7b3cd5d5",
        "outputId": "f7985776-4b2c-456b-98d8-351f7fc95c7a"
      },
      "outputs": [
        {
          "output_type": "stream",
          "name": "stdout",
          "text": [
            "              precision    recall  f1-score   support\n",
            "\n",
            "       DrugY       0.93      1.00      0.97        14\n",
            "       drugA       1.00      1.00      1.00         6\n",
            "       drugB       1.00      0.83      0.91         6\n",
            "       drugC       1.00      1.00      1.00         3\n",
            "       drugX       1.00      1.00      1.00        11\n",
            "\n",
            "    accuracy                           0.97        40\n",
            "   macro avg       0.99      0.97      0.97        40\n",
            "weighted avg       0.98      0.97      0.97        40\n",
            "\n"
          ]
        }
      ],
      "source": [
        "print(classification_report(y_test , prediction))"
      ]
    },
    {
      "cell_type": "code",
      "execution_count": null,
      "id": "6c2f1690",
      "metadata": {
        "execution": {
          "iopub.execute_input": "2022-12-20T07:31:35.443210Z",
          "iopub.status.busy": "2022-12-20T07:31:35.442737Z",
          "iopub.status.idle": "2022-12-20T07:31:35.454208Z",
          "shell.execute_reply": "2022-12-20T07:31:35.452752Z"
        },
        "papermill": {
          "duration": 0.032684,
          "end_time": "2022-12-20T07:31:35.456622",
          "exception": false,
          "start_time": "2022-12-20T07:31:35.423938",
          "status": "completed"
        },
        "tags": [],
        "colab": {
          "base_uri": "https://localhost:8080/"
        },
        "id": "6c2f1690",
        "outputId": "96e34943-2027-476b-dfc9-fa3c5b14571a"
      },
      "outputs": [
        {
          "output_type": "execute_result",
          "data": {
            "text/plain": [
              "array([[14,  0,  0,  0,  0],\n",
              "       [ 0,  6,  0,  0,  0],\n",
              "       [ 1,  0,  5,  0,  0],\n",
              "       [ 0,  0,  0,  3,  0],\n",
              "       [ 0,  0,  0,  0, 11]])"
            ]
          },
          "metadata": {},
          "execution_count": 33
        }
      ],
      "source": [
        "confusion_matrix(y_test , prediction) #defining the sa"
      ]
    },
    {
      "cell_type": "code",
      "execution_count": null,
      "id": "3f139180",
      "metadata": {
        "execution": {
          "iopub.execute_input": "2022-12-20T07:31:35.490797Z",
          "iopub.status.busy": "2022-12-20T07:31:35.490383Z",
          "iopub.status.idle": "2022-12-20T07:31:35.739053Z",
          "shell.execute_reply": "2022-12-20T07:31:35.737761Z"
        },
        "papermill": {
          "duration": 0.26882,
          "end_time": "2022-12-20T07:31:35.741627",
          "exception": false,
          "start_time": "2022-12-20T07:31:35.472807",
          "status": "completed"
        },
        "tags": [],
        "colab": {
          "base_uri": "https://localhost:8080/",
          "height": 391
        },
        "id": "3f139180",
        "outputId": "11c660e9-c11b-4a0f-f17b-bba31b325915"
      },
      "outputs": [
        {
          "output_type": "execute_result",
          "data": {
            "text/plain": [
              "<matplotlib.axes._subplots.AxesSubplot at 0x7f974b1a6e80>"
            ]
          },
          "metadata": {},
          "execution_count": 36
        },
        {
          "output_type": "display_data",
          "data": {
            "text/plain": [
              "<Figure size 432x432 with 1 Axes>"
            ],
            "image/png": "[encoded data removed]"
          },
          "metadata": {}
        }
      ],
      "source": [
        "plt.figure(figsize=(6,6))\n",
        "sns.heatmap(confusion_matrix(y_test , prediction ) , cbar=False , annot=True , cmap='Greys_r')"
      ]
    },
    {
      "cell_type": "code",
      "source": [],
      "metadata": {
        "id": "Ac72OR-u8Khu"
      },
      "id": "Ac72OR-u8Khu",
      "execution_count": null,
      "outputs": []
    }
  ],
  "metadata": {
    "kernelspec": {
      "display_name": "Python 3 (ipykernel)",
      "language": "python",
      "name": "python3"
    },
    "language_info": {
      "codemirror_mode": {
        "name": "ipython",
        "version": 3
      },
      "file_extension": ".py",
      "mimetype": "text/x-python",
      "name": "python",
      "nbconvert_exporter": "python",
      "pygments_lexer": "ipython3",
      "version": "3.8.13"
    },
    "papermill": {
      "default_parameters": {},
      "duration": 17.431724,
      "end_time": "2022-12-20T07:31:36.678287",
      "environment_variables": {},
      "exception": null,
      "input_path": "__notebook__.ipynb",
      "output_path": "__notebook__.ipynb",
      "parameters": {},
      "start_time": "2022-12-20T07:31:19.246563",
      "version": "2.3.4"
    },
    "colab": {
      "provenance": []
    }
  },
  "nbformat": 4,
  "nbformat_minor": 5
}